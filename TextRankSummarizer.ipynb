{
 "cells": [
  {
   "cell_type": "code",
   "execution_count": 68,
   "metadata": {},
   "outputs": [],
   "source": [
    "import numpy as np\n",
    "import math \n",
    "import pandas as pd\n",
    "import re\n",
    "from sklearn.metrics.pairwise import cosine_similarity\n",
    "from nltk.corpus import stopwords\n",
    "from nltk.tokenize import sent_tokenize\n",
    "import networkx as nx\n",
    "from sklearn.feature_extraction.text import CountVectorizer, TfidfVectorizer\n",
    "from sklearn.feature_extraction.text import TfidfVectorizer"
   ]
  },
  {
   "cell_type": "code",
   "execution_count": 69,
   "metadata": {},
   "outputs": [],
   "source": [
    "#nltk.download('punkt')   # one time execution\n",
    "#nltk.download('stopwords')  # one time execution"
   ]
  },
  {
   "cell_type": "code",
   "execution_count": 70,
   "metadata": {},
   "outputs": [],
   "source": [
    "import grpc\n",
    "import zemberek_grpc.morphology_pb2 as z_morphology\n",
    "import zemberek_grpc.morphology_pb2_grpc as z_morphology_g\n",
    "import zemberek_grpc.normalization_pb2 as z_normalization\n",
    "import zemberek_grpc.normalization_pb2_grpc as z_normalization_g\n",
    "channel = grpc.insecure_channel('localhost:6789')\n",
    "morphology_stub = z_morphology_g.MorphologyServiceStub(channel)\n",
    "normalization_stub = z_normalization_g.NormalizationServiceStub(channel)\n",
    "#java -jar zemberek-full.jar StartGrpcServer --dataRoot .\\zemberek_data\\"
   ]
  },
  {
   "cell_type": "code",
   "execution_count": 71,
   "metadata": {},
   "outputs": [],
   "source": [
    "def textRankSimilarities(i,j):\n",
    "    sum = 0\n",
    "    for w in i.split():\n",
    "        if w in j.split():\n",
    "            sum += 1\n",
    "    return sum/(math.log(len(i.split()))+math.log(len(j.split())))\n"
   ]
  },
  {
   "cell_type": "code",
   "execution_count": 72,
   "metadata": {},
   "outputs": [],
   "source": [
    "def cvtfidfCosineSim(stemmedSen,alg = \"cv\"):\n",
    "    if(alg == \"cv\"):\n",
    "        CountVec = CountVectorizer(ngram_range=(1,1))\n",
    "        Count_data = CountVec.fit_transform(stemmedSen)\n",
    "        cv_dataframe=pd.DataFrame(Count_data.toarray(),columns=CountVec.get_feature_names())  \n",
    "    else:\n",
    "        CountVec = TfidfVectorizer()\n",
    "        Count_data = CountVec.fit_transform(stemmedSen)\n",
    "        cv_dataframe = pd.DataFrame(Count_data.toarray(), columns=CountVec.get_feature_names())  \n",
    "    \n",
    "    sim_mat = np.zeros([len(stemmedSen), len(stemmedSen)])\n",
    "    \n",
    "    for i in range(len(stemmedSen)):\n",
    "          for j in range(len(stemmedSen)):\n",
    "            if i != j:                         \n",
    "                sim_mat[i][j] = cosine_similarity(cv_dataframe.loc[i,:].to_numpy().reshape(1,-1),cv_dataframe.loc[j,:].to_numpy().reshape(1,-1))[0][0]\n",
    "    \n",
    "    norm = np.sum(sim_mat, axis=1)    \n",
    "    sim_mat = np.divide(sim_mat, norm, where=norm!=0)\n",
    "    \n",
    "    return sim_mat"
   ]
  },
  {
   "cell_type": "code",
   "execution_count": 73,
   "metadata": {},
   "outputs": [],
   "source": [
    "def TextRankSummarize(text,k=5, alg = \"trsim\"):\n",
    "    \n",
    "    sentences = sent_tokenize(text)\n",
    "    \n",
    "    clearedSen = []\n",
    "    for i in sentences:\n",
    "        sent= re.sub('[^a-zA-ZÂâğüşöçıİĞÜŞÖÇ]', \" \", i)\n",
    "        sent = sent.lower()\n",
    "        clearedSen.append(sent)\n",
    "        \n",
    "        \n",
    "    stemmedSen = []\n",
    "\n",
    "    for i in clearedSen:\n",
    "        stem = \"\"\n",
    "        for j in i.split():\n",
    "            res = morphology_stub.AnalyzeSentence(z_morphology.SentenceAnalysisRequest(input=str(j)))\n",
    "            if res.results[0].best.dictionaryItem.lemma.lower() not in stopwords.words('turkish') and res.results[0].best.dictionaryItem.lemma.lower() != 'unk' and len(res.results[0].best.dictionaryItem.lemma.lower()) != 1  :\n",
    "                stem += res.results[0].best.dictionaryItem.lemma.lower() + \" \"\n",
    "            elif res.results[0].best.dictionaryItem.lemma.lower() == 'unk':\n",
    "                stem += j + \" \"\n",
    "        stem.strip()\n",
    "        stemmedSen.append(stem)\n",
    "        \n",
    "    \n",
    "    if alg == \"trsim\":\n",
    "    \n",
    "        sim_mat = np.zeros([len(stemmedSen), len(stemmedSen)])\n",
    "        for i in range(len(stemmedSen)):\n",
    "              for j in range(len(stemmedSen)):\n",
    "                if i != j:                         \n",
    "                    sim_mat[i][j] = textRankSimilarities(stemmedSen[i],stemmedSen[j])\n",
    "\n",
    "                \n",
    "    elif alg == \"cv\":\n",
    "        sim_mat = cvtfidfCosineSim(stemmedSen,alg = \"cv\")\n",
    "    elif alg == \"tfidf\":\n",
    "        sim_mat = cvtfidfCosineSim(stemmedSen,alg = \"tfidf\")\n",
    "    \n",
    "    #PageRank\n",
    "    G = nx.from_numpy_array(np.array(sim_mat))       \n",
    "    scores = nx.pagerank_numpy(G)\n",
    "    \n",
    "    \n",
    "\n",
    "    ranked_sentences = sorted(((scores[i],s) for i,s in enumerate(sentences)), reverse=True)\n",
    "\n",
    "    my_list=[]\n",
    "    for i in range(k):\n",
    "        my_list.append(ranked_sentences[i][1])\n",
    "\n",
    "    for i in sentences:\n",
    "        if i in my_list:\n",
    "            print(i)"
   ]
  },
  {
   "cell_type": "code",
   "execution_count": 74,
   "metadata": {},
   "outputs": [],
   "source": [
    "txt =\"\"\"Bir iklim bilimcinin açıklamasına göre, aşırı küresel sıcaklıklar insan vücudunu termal sınırlara doğru itiyor.\n",
    "\n",
    "Geçtiğimiz hafta Avrupa genelinde rekor sıcaklıklara şahit olundu. Birkaç ülkede sıcaklık 40 derecenin üstüne çıktı. Öte yandan Güney Asya ve Basra Körfezi gibi yerlerde yaşayan insanlar 54 derecelere varan sıcaklıklarla mücadele ediyor. Loughborough Üniversitesi’nde iklim bilimci olarak çalışan Dr. Tom Matthews “İnsan vücudundaki tüm ısıl verime rağmen Güney Asya ve Basra Körfezi gibi yerler yakın zamanda yaşanmaz hale gelebilir.” dedi.\n",
    "\n",
    "Hava sıcaklığı 35 dereceyi geçtiğinde vücut, vücut ısısını güvenli seviyede tutmak için terler. Ancak nemin buharlaşabilme yetisini gösteren ıslak sıcaklık 35 dereceyi aştığında bu sistem çalışmaz hale gelir. Dr. Matthews “Islak sıcaklık, termometreden buharlaşan suyun soğuma etkisini de içerir. Bu yüzden doğal olarak hava durumlarında verilen normal (kuru ampul sıcaklığı) sıcaklıktan daha düşük olur. Bu ıslak sıcaklık eşiği aşıldığında, hava o kadar çok su buharıyla dolar ki ter buharlaşmaz hale gelir.” diyor.\n",
    "\n",
    "Bu da, insan vücudunun kendini birkaç saatten fazla hayatta kalabilecek kadar soğutamayacağı anlamına geliyor. Matthews’a göre 21. yüzyılın sonunda Dünya üzerindeki en yoğun nüfuslu yerlerden bazıları da dahil olmak üzere kimi bölgeler bu eşiği geçecek. İklim değişikliğinin hava sistemlerini derinden etkilemeye başlamasıyla, artan sıcaklıklar yakında dünyanın bazı yerlerini yaşanmaz hale getirebilir. Eğer elektrik sistemi düzgün işletilirse kronik şekilde sıcaktan etkilenen ülkelerde yaşamak mümkün olabilir ancak elektrik kesintisi olması durumunda felaket yaşanır. Bu yüzden Dr. Matthews’a göre konuyla ilgili en sağlıklı hamle, Paris İklim Değişikliği Anlaşması’yla belirlenen sınırları korumak adına seragazı salınımını kesmek.\"\"\"\n"
   ]
  },
  {
   "cell_type": "code",
   "execution_count": 75,
   "metadata": {},
   "outputs": [
    {
     "name": "stdout",
     "output_type": "stream",
     "text": [
      "Loughborough Üniversitesi’nde iklim bilimci olarak çalışan Dr. Tom Matthews “İnsan vücudundaki tüm ısıl verime rağmen Güney Asya ve Basra Körfezi gibi yerler yakın zamanda yaşanmaz hale gelebilir.” dedi.\n",
      "Ancak nemin buharlaşabilme yetisini gösteren ıslak sıcaklık 35 dereceyi aştığında bu sistem çalışmaz hale gelir.\n",
      "Bu ıslak sıcaklık eşiği aşıldığında, hava o kadar çok su buharıyla dolar ki ter buharlaşmaz hale gelir.” diyor.\n",
      "İklim değişikliğinin hava sistemlerini derinden etkilemeye başlamasıyla, artan sıcaklıklar yakında dünyanın bazı yerlerini yaşanmaz hale getirebilir.\n",
      "Eğer elektrik sistemi düzgün işletilirse kronik şekilde sıcaktan etkilenen ülkelerde yaşamak mümkün olabilir ancak elektrik kesintisi olması durumunda felaket yaşanır.\n"
     ]
    }
   ],
   "source": [
    "\n",
    "TextRankSummarize(txt,5, alg = \"trsim\" )"
   ]
  },
  {
   "cell_type": "code",
   "execution_count": 76,
   "metadata": {},
   "outputs": [
    {
     "name": "stdout",
     "output_type": "stream",
     "text": [
      "Loughborough Üniversitesi’nde iklim bilimci olarak çalışan Dr. Tom Matthews “İnsan vücudundaki tüm ısıl verime rağmen Güney Asya ve Basra Körfezi gibi yerler yakın zamanda yaşanmaz hale gelebilir.” dedi.\n",
      "Hava sıcaklığı 35 dereceyi geçtiğinde vücut, vücut ısısını güvenli seviyede tutmak için terler.\n",
      "Ancak nemin buharlaşabilme yetisini gösteren ıslak sıcaklık 35 dereceyi aştığında bu sistem çalışmaz hale gelir.\n",
      "Bu ıslak sıcaklık eşiği aşıldığında, hava o kadar çok su buharıyla dolar ki ter buharlaşmaz hale gelir.” diyor.\n",
      "İklim değişikliğinin hava sistemlerini derinden etkilemeye başlamasıyla, artan sıcaklıklar yakında dünyanın bazı yerlerini yaşanmaz hale getirebilir.\n"
     ]
    }
   ],
   "source": [
    "TextRankSummarize(txt,5, alg = \"cv\" )"
   ]
  },
  {
   "cell_type": "code",
   "execution_count": 77,
   "metadata": {},
   "outputs": [
    {
     "name": "stdout",
     "output_type": "stream",
     "text": [
      "Loughborough Üniversitesi’nde iklim bilimci olarak çalışan Dr. Tom Matthews “İnsan vücudundaki tüm ısıl verime rağmen Güney Asya ve Basra Körfezi gibi yerler yakın zamanda yaşanmaz hale gelebilir.” dedi.\n",
      "Hava sıcaklığı 35 dereceyi geçtiğinde vücut, vücut ısısını güvenli seviyede tutmak için terler.\n",
      "Ancak nemin buharlaşabilme yetisini gösteren ıslak sıcaklık 35 dereceyi aştığında bu sistem çalışmaz hale gelir.\n",
      "Bu ıslak sıcaklık eşiği aşıldığında, hava o kadar çok su buharıyla dolar ki ter buharlaşmaz hale gelir.” diyor.\n",
      "İklim değişikliğinin hava sistemlerini derinden etkilemeye başlamasıyla, artan sıcaklıklar yakında dünyanın bazı yerlerini yaşanmaz hale getirebilir.\n"
     ]
    }
   ],
   "source": [
    "TextRankSummarize(txt,5, alg = \"tfidf\" )"
   ]
  }
 ],
 "metadata": {
  "kernelspec": {
   "display_name": "Python 3",
   "language": "python",
   "name": "python3"
  },
  "language_info": {
   "codemirror_mode": {
    "name": "ipython",
    "version": 3
   },
   "file_extension": ".py",
   "mimetype": "text/x-python",
   "name": "python",
   "nbconvert_exporter": "python",
   "pygments_lexer": "ipython3",
   "version": "3.8.0"
  }
 },
 "nbformat": 4,
 "nbformat_minor": 4
}
